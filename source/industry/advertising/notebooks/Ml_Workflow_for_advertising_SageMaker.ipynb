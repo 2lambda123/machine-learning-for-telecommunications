{
 "cells": [
  {
   "cell_type": "markdown",
   "metadata": {
    "collapsed": true
   },
   "source": [
    "# Machine Learning for Advertising"
   ]
  },
  {
   "cell_type": "markdown",
   "metadata": {},
   "source": [
    "# Loading the training data\n",
    "\n",
    "The first step is to load the training data into the dataframe. \n",
    "\n",
    "To do this we need to do the following:\n",
    "    1. Define the schema of the data\n",
    "    2. Load the data into a dataframe using spark's read functionalities"
   ]
  },
  {
   "cell_type": "markdown",
   "metadata": {},
   "source": [
    "### Load Impressions Dataset"
   ]
  },
  {
   "cell_type": "code",
   "execution_count": 1,
   "metadata": {
    "collapsed": true
   },
   "outputs": [],
   "source": [
    "from pyspark.sql.types import *\n",
    "from pyspark.sql import SparkSession\n",
    "from sagemaker import get_execution_role\n",
    "import sagemaker_pyspark\n",
    "\n",
    "role = get_execution_role()\n",
    "\n",
    "# Configure Spark to use the SageMaker Spark dependency jars\n",
    "jars = sagemaker_pyspark.classpath_jars()\n",
    "\n",
    "classpath = \":\".join(sagemaker_pyspark.classpath_jars())\n",
    "\n",
    "# See the SageMaker Spark Github repo under sagemaker-pyspark-sdk\n",
    "# to learn how to connect to a remote EMR cluster running Spark from a Notebook Instance.\n",
    "spark = SparkSession.builder.config(\"spark.driver.extraClassPath\", classpath)\\\n",
    "    .master(\"local[*]\").getOrCreate()"
   ]
  },
  {
   "cell_type": "code",
   "execution_count": 2,
   "metadata": {
    "collapsed": true
   },
   "outputs": [],
   "source": [
    "from pyspark.sql.types import *\n",
    "\n",
    "\n",
    "impressions = \"<%ImpressionsFile%>\"\n",
    "                      \n",
    "impdf = spark.read.parquet(impressions)            "
   ]
  },
  {
   "cell_type": "markdown",
   "metadata": {},
   "source": [
    "### Load Activity Dataset"
   ]
  },
  {
   "cell_type": "code",
   "execution_count": 3,
   "metadata": {
    "collapsed": true
   },
   "outputs": [],
   "source": [
    "from pyspark.sql.types import *\n",
    "from pyspark.sql.functions import *\n",
    "\n",
    "activities = \"<%ActivitiesFile%>\"\n",
    "\n",
    "actdf = spark.read.parquet(activities)\n"
   ]
  },
  {
   "cell_type": "markdown",
   "metadata": {},
   "source": [
    "### Drop Duplicate Records from Impression table for the given coloumns"
   ]
  },
  {
   "cell_type": "code",
   "execution_count": 4,
   "metadata": {},
   "outputs": [
    {
     "data": {
      "text/plain": [
       "12260"
      ]
     },
     "execution_count": 4,
     "metadata": {},
     "output_type": "execute_result"
    }
   ],
   "source": [
    "imp_df = impdf.select('User_ID','Browser_Platform_ID','Operating_System_ID','Ad_ID').dropDuplicates()\n",
    "imp_df.cache()\n",
    "imp_df.count()"
   ]
  },
  {
   "cell_type": "markdown",
   "metadata": {},
   "source": [
    "### Drop Duplicate Records from Activity table for the given coloumns"
   ]
  },
  {
   "cell_type": "code",
   "execution_count": 5,
   "metadata": {},
   "outputs": [
    {
     "data": {
      "text/plain": [
       "9145"
      ]
     },
     "execution_count": 5,
     "metadata": {},
     "output_type": "execute_result"
    }
   ],
   "source": [
    "act_df = actdf.select('User_ID','Browser_Platform_ID','Operating_System_ID','Ad_ID').dropDuplicates()\n",
    "act_df.cache()\n",
    "act_df.count()"
   ]
  },
  {
   "cell_type": "markdown",
   "metadata": {},
   "source": [
    "### Find the records who are converted in Impression Table -> (Impressions All <-filter-> Activity = Converted)"
   ]
  },
  {
   "cell_type": "code",
   "execution_count": 6,
   "metadata": {
    "collapsed": true
   },
   "outputs": [],
   "source": [
    "conv_imp = imp_df.join(act_df,[\"User_ID\"]).filter(imp_df.Browser_Platform_ID == act_df.Browser_Platform_ID).filter(imp_df.Operating_System_ID == act_df.Operating_System_ID).filter(imp_df.Ad_ID == act_df.Ad_ID).drop(act_df.Browser_Platform_ID).drop(act_df.Operating_System_ID).drop(act_df.Ad_ID)"
   ]
  },
  {
   "cell_type": "code",
   "execution_count": 7,
   "metadata": {},
   "outputs": [
    {
     "data": {
      "text/plain": [
       "9145"
      ]
     },
     "execution_count": 7,
     "metadata": {},
     "output_type": "execute_result"
    }
   ],
   "source": [
    "conv_imp.count()"
   ]
  },
  {
   "cell_type": "markdown",
   "metadata": {},
   "source": [
    "### Find the records who are Not converted in Impression Table -> (Impressions All - Converted = Not Converted)"
   ]
  },
  {
   "cell_type": "code",
   "execution_count": 8,
   "metadata": {
    "collapsed": true
   },
   "outputs": [],
   "source": [
    "notconv_imp=imp_df.select('User_ID','Browser_Platform_ID','Operating_System_ID','Ad_ID').subtract(conv_imp.select('User_ID','Browser_Platform_ID','Operating_System_ID','Ad_ID'))"
   ]
  },
  {
   "cell_type": "markdown",
   "metadata": {},
   "source": [
    "### Not Converted Records - labeled converted with values 0.0"
   ]
  },
  {
   "cell_type": "code",
   "execution_count": 9,
   "metadata": {},
   "outputs": [
    {
     "data": {
      "text/plain": [
       "3115"
      ]
     },
     "execution_count": 9,
     "metadata": {},
     "output_type": "execute_result"
    }
   ],
   "source": [
    "imp_not_conv = notconv_imp.withColumn(\"purchased\",lit(0).cast(DoubleType()))\n",
    "imp_not_conv.count()"
   ]
  },
  {
   "cell_type": "markdown",
   "metadata": {},
   "source": [
    "### Converted Records - labeled converted with values 1.0"
   ]
  },
  {
   "cell_type": "code",
   "execution_count": 10,
   "metadata": {},
   "outputs": [
    {
     "data": {
      "text/plain": [
       "9145"
      ]
     },
     "execution_count": 10,
     "metadata": {},
     "output_type": "execute_result"
    }
   ],
   "source": [
    "imp_conv = conv_imp.withColumn(\"purchased\",lit(1).cast(DoubleType()))\n",
    "imp_conv.count()"
   ]
  },
  {
   "cell_type": "markdown",
   "metadata": {},
   "source": [
    "### Final  Impression table with the records (Converted Union NonConverted)"
   ]
  },
  {
   "cell_type": "code",
   "execution_count": 11,
   "metadata": {},
   "outputs": [
    {
     "name": "stdout",
     "output_type": "stream",
     "text": [
      "root\n",
      " |-- User_ID: string (nullable = true)\n",
      " |-- Browser_Platform_ID: string (nullable = true)\n",
      " |-- Operating_System_ID: string (nullable = true)\n",
      " |-- Ad_ID: string (nullable = true)\n",
      " |-- purchased: double (nullable = false)\n",
      "\n"
     ]
    },
    {
     "data": {
      "text/plain": [
       "12260"
      ]
     },
     "execution_count": 11,
     "metadata": {},
     "output_type": "execute_result"
    }
   ],
   "source": [
    "imp_final = imp_conv.unionAll(imp_not_conv)\n",
    "imp_final.printSchema()\n",
    "imp_final.count()"
   ]
  },
  {
   "cell_type": "markdown",
   "metadata": {},
   "source": [
    "# Featurization - One Hot Encodeing"
   ]
  },
  {
   "cell_type": "code",
   "execution_count": 12,
   "metadata": {},
   "outputs": [
    {
     "data": {
      "text/plain": [
       "OneHotEncoder_49ddb390be150724874e"
      ]
     },
     "execution_count": 12,
     "metadata": {},
     "output_type": "execute_result"
    }
   ],
   "source": [
    "from pyspark.ml.feature import StringIndexer\n",
    "from pyspark.ml.feature import OneHotEncoder\n",
    "\n",
    "'''\n",
    "Utilize a StringIndexer to encode a column of strings to \n",
    "a column of indices.\n",
    "'''\n",
    "indexerA = StringIndexer()\n",
    "indexerA.setInputCol(\"Browser_Platform_ID\")\n",
    "indexerA.setOutputCol(\"browser_index\")\n",
    "\n",
    "indexerB = StringIndexer()\n",
    "indexerB.setInputCol(\"Operating_System_ID\")\n",
    "indexerB.setOutputCol(\"os_index\")\n",
    "\n",
    "indexerC = StringIndexer()\n",
    "indexerC.setInputCol(\"Ad_ID\")\n",
    "indexerC.setOutputCol(\"ad_index\")\n",
    "\n",
    "'''\n",
    "Use the OneHotEncoder transformer to map a column of  \n",
    "indices to a column of binary vectors, where each vector\n",
    "has at most one dimension as non-zero (unity) value.\n",
    "'''\n",
    "encoderA = OneHotEncoder()\n",
    "encoderA.setInputCol(\"browser_index\")\n",
    "encoderA.setOutputCol(\"browser_features\")\n",
    "\n",
    "encoderB = OneHotEncoder()\n",
    "encoderB.setInputCol(\"os_index\")\n",
    "encoderB.setOutputCol(\"os_features\")\n",
    "\n",
    "encoderC = OneHotEncoder()\n",
    "encoderC.setInputCol(\"ad_index\")\n",
    "encoderC.setOutputCol(\"ad_features\")"
   ]
  },
  {
   "cell_type": "markdown",
   "metadata": {},
   "source": [
    "# Explore the features"
   ]
  },
  {
   "cell_type": "code",
   "execution_count": 13,
   "metadata": {
    "collapsed": true
   },
   "outputs": [],
   "source": [
    "indexermodelA = indexerA.fit(imp_final)\n",
    "tempdf1 = indexermodelA.transform(imp_final)\n",
    "tempdf2 = encoderA.transform(tempdf1)\n",
    "\n",
    "indexermodelB = indexerB.fit(tempdf2)\n",
    "tempdf3 = indexermodelB.transform(tempdf2)\n",
    "tempdf4 = encoderB.transform(tempdf3)\n",
    "\n",
    "indexermodelC = indexerC.fit(tempdf4)\n",
    "tempdf5 = indexermodelC.transform(tempdf4)\n",
    "encodedFinal = encoderC.transform(tempdf5)\n"
   ]
  },
  {
   "cell_type": "markdown",
   "metadata": {},
   "source": [
    "## Test , Train Data Split"
   ]
  },
  {
   "cell_type": "code",
   "execution_count": 14,
   "metadata": {},
   "outputs": [
    {
     "data": {
      "text/plain": [
       "(9217, 3043)"
      ]
     },
     "execution_count": 14,
     "metadata": {},
     "output_type": "execute_result"
    }
   ],
   "source": [
    "from pyspark.sql.functions import rand\n",
    "\n",
    "samplingFraction = 0.25;\n",
    "trainingFraction = 0.75; testingFraction = (1-trainingFraction);\n",
    "seed = 1234;\n",
    "\n",
    "trainData, testData = imp_final.randomSplit([trainingFraction, testingFraction], seed=seed);\n",
    "\n",
    "# CACHE TRAIN AND TEST DATA\n",
    "trainData.cache()\n",
    "testData.cache()\n",
    "trainData.count(),testData.count()"
   ]
  },
  {
   "cell_type": "code",
   "execution_count": 15,
   "metadata": {},
   "outputs": [
    {
     "data": {
      "text/plain": [
       "5034"
      ]
     },
     "execution_count": 15,
     "metadata": {},
     "output_type": "execute_result"
    }
   ],
   "source": [
    "filter_notconv = trainData.filter(\"purchased == 0.0\")\n",
    "filter_conv = trainData.filter(\"purchased == 1.0\")\n",
    "filter_notconv.count(),filter_conv.count()\n",
    "\n",
    "filter_conv_sample = filter_conv.sample(False, 0.4, 42)\n",
    "filter_conv_sample.count()\n",
    "\n",
    "traindf = filter_conv_sample.unionAll(filter_notconv)\n",
    "traindf.count()"
   ]
  },
  {
   "cell_type": "markdown",
   "metadata": {},
   "source": [
    "# Analyzing the label distribution\n",
    "\n",
    "First we analyze the distribution of our target labels using a histogram"
   ]
  },
  {
   "cell_type": "code",
   "execution_count": 16,
   "metadata": {},
   "outputs": [
    {
     "data": {
      "image/png": "[encoded data removed]",
      "text/plain": [
       "<matplotlib.figure.Figure at 0x7f0343262f90>"
      ]
     },
     "metadata": {},
     "output_type": "display_data"
    }
   ],
   "source": [
    "import matplotlib.pyplot as plt\n",
    "\n",
    "negcount = traindf.filter(\"purchased == 0.0\").count()\n",
    "poscount = traindf.filter(\"purchased == 1.0\").count()\n",
    "\n",
    "negfrac = 100*float(negcount)/float(negcount+poscount)\n",
    "posfrac = 100*float(poscount)/float(poscount+negcount)\n",
    "ind = [0.0,1.0]\n",
    "frac = [negfrac,posfrac]\n",
    "width = 0.35\n",
    "\n",
    "plt.title('Label Distribution')\n",
    "plt.bar(ind, frac, width, color='r')\n",
    "plt.xlabel(\"Purchased\")\n",
    "plt.ylabel('Percentage share')\n",
    "plt.xticks(ind,['0.0','1.0'])\n",
    "plt.show()"
   ]
  },
  {
   "cell_type": "code",
   "execution_count": 17,
   "metadata": {},
   "outputs": [
    {
     "data": {
      "image/png": "[encoded data removed]",
      "text/plain": [
       "<matplotlib.figure.Figure at 0x7f0349974690>"
      ]
     },
     "metadata": {},
     "output_type": "display_data"
    }
   ],
   "source": [
    "import matplotlib.pyplot as plt\n",
    "\n",
    "negcount = testData.filter(\"purchased == 0.0\").count()\n",
    "poscount = testData.filter(\"purchased == 1.0\").count()\n",
    "\n",
    "negfrac = 100*float(negcount)/float(negcount+poscount)\n",
    "posfrac = 100*float(poscount)/float(poscount+negcount)\n",
    "ind = [0.0,1.0]\n",
    "frac = [negfrac,posfrac]\n",
    "width = 0.35\n",
    "\n",
    "plt.title('Label Distribution')\n",
    "plt.bar(ind, frac, width, color='r')\n",
    "plt.xlabel(\"Purchased\")\n",
    "plt.ylabel('Percentage share')\n",
    "plt.xticks(ind,['0.0','1.0'])\n",
    "plt.show()"
   ]
  },
  {
   "cell_type": "markdown",
   "metadata": {},
   "source": [
    "# Model Training\n",
    "\n",
    "We utilize a LogisticRegression classsifier for our ML model. \n",
    "\n",
    "VectorAssembler Transformer is used to collect the transformers and Estimators into a Single feature Vector\n"
   ]
  },
  {
   "cell_type": "code",
   "execution_count": 18,
   "metadata": {},
   "outputs": [
    {
     "data": {
      "text/plain": [
       "VectorAssembler_49a9b4cf0047da94346b"
      ]
     },
     "execution_count": 18,
     "metadata": {},
     "output_type": "execute_result"
    }
   ],
   "source": [
    "from pyspark.ml.feature import VectorAssembler\n",
    "\n",
    "assembler = VectorAssembler()\n",
    "assembler.setInputCols([\"browser_features\", \"os_features\",\"ad_features\"])\n",
    "assembler.setOutputCol(\"features\")\n"
   ]
  },
  {
   "cell_type": "code",
   "execution_count": 50,
   "metadata": {},
   "outputs": [],
   "source": [
    "from sagemaker_pyspark import IAMRole, S3DataPath\n",
    "from sagemaker_pyspark.algorithms import *\n",
    "from sagemaker import get_execution_role\n",
    "from sagemaker_pyspark import *\n",
    "\n",
    "\n",
    "estimator = LinearLearnerBinaryClassifier(\n",
    "    sagemakerRole=IAMRole(role),\n",
    "    trainingInstanceType=\"ml.m4.xlarge\",\n",
    "    trainingInstanceCount=1,\n",
    "    endpointInstanceType=\"ml.m4.xlarge\",\n",
    "    endpointInitialInstanceCount=1,\n",
    "    trainingSparkDataFormatOptions={\n",
    "        \"featuresColumnName\":\"features\",\n",
    "        \"labelColumnName\":\"purchased\"\n",
    "    },\n",
    "    namePolicyFactory=RandomNamePolicyFactory(\"adClasHyp1\"),\n",
    "    endpointCreationPolicy=EndpointCreationPolicy.CREATE_ON_TRANSFORM)\n",
    "\n",
    "\n",
    "estimator.setFeatureDim(25)\n",
    "estimator.setLoss('logistic')\n",
    "estimator.binary_classifier_model_selection_criteria='recall_at_target_precision'\n",
    "estimator.target_recall=0.9\n",
    "estimator.positive_example_weight_mult='balanced'\n",
    "estimator.epochs=40\n",
    "\n"
   ]
  },
  {
   "cell_type": "markdown",
   "metadata": {},
   "source": [
    "# Setting up an ML Pipeline"
   ]
  },
  {
   "cell_type": "code",
   "execution_count": 51,
   "metadata": {
    "collapsed": true
   },
   "outputs": [],
   "source": [
    "from pyspark.ml import Pipeline\n",
    "\n",
    "trainingpipeline = Pipeline(stages=[indexerA,encoderA,\n",
    "                                    indexerB,encoderB,\n",
    "                                    indexerC,encoderC,                    \n",
    "                                    assembler,estimator])"
   ]
  },
  {
   "cell_type": "markdown",
   "metadata": {},
   "source": [
    "# Training the Pipeline Model"
   ]
  },
  {
   "cell_type": "code",
   "execution_count": 52,
   "metadata": {},
   "outputs": [
    {
     "name": "stdout",
     "output_type": "stream",
     "text": [
      "CPU times: user 88 ms, sys: 16 ms, total: 104 ms\n",
      "Wall time: 16min 51s\n"
     ]
    }
   ],
   "source": [
    "%%time\n",
    "model = trainingpipeline.fit(traindf)"
   ]
  },
  {
   "cell_type": "markdown",
   "metadata": {},
   "source": [
    "# Compute predictions"
   ]
  },
  {
   "cell_type": "code",
   "execution_count": 53,
   "metadata": {},
   "outputs": [
    {
     "name": "stdout",
     "output_type": "stream",
     "text": [
      "+--------------------+-------------------+-------------------+---------+---------+-------------+----------------+--------+---------------+--------+-------------+--------------------+-------------------+---------------+\n",
      "|             User_ID|Browser_Platform_ID|Operating_System_ID|    Ad_ID|purchased|browser_index|browser_features|os_index|    os_features|ad_index|  ad_features|            features|              score|predicted_label|\n",
      "+--------------------+-------------------+-------------------+---------+---------+-------------+----------------+--------+---------------+--------+-------------+--------------------+-------------------+---------------+\n",
      "|A1htmYYc0x9Lfb_Cm...|                 26|                 13|934026699|      1.0|          0.0|   (9,[0],[1.0])|     4.0| (15,[4],[1.0])|     1.0|    (1,[],[])|(25,[0,13],[1.0,1...| 0.7730217576026917|            1.0|\n",
      "|A1sN5YHp1h9SstIw_...|                  5|                  2|994726652|      1.0|          1.0|   (9,[1],[1.0])|     5.0| (15,[5],[1.0])|     0.0|(1,[0],[1.0])|(25,[1,14,24],[1....| 0.5483778119087219|            1.0|\n",
      "|A4CTNZm16reCXEiJJ...|                 27|                 10|994726652|      1.0|          2.0|   (9,[2],[1.0])|    10.0|(15,[10],[1.0])|     0.0|(1,[0],[1.0])|(25,[2,19,24],[1....| 0.2885718047618866|            0.0|\n",
      "|AKjHo4urfcNj3bSho...|                 27|             501009|994726652|      1.0|          2.0|   (9,[2],[1.0])|     9.0| (15,[9],[1.0])|     0.0|(1,[0],[1.0])|(25,[2,18,24],[1....|0.37591180205345154|            0.0|\n",
      "|ATrRaMwDKNi23Prbi...|                 28|                  7|934026699|      1.0|          3.0|   (9,[3],[1.0])|     1.0| (15,[1],[1.0])|     1.0|    (1,[],[])|(25,[3,10],[1.0,1...| 0.6110605001449585|            1.0|\n",
      "|AVdWi4JfVdjUjaqjc...|                 27|             501013|934026699|      1.0|          2.0|   (9,[2],[1.0])|     8.0| (15,[8],[1.0])|     1.0|    (1,[],[])|(25,[2,17],[1.0,1...| 0.6652107238769531|            1.0|\n",
      "|AaopLsNSsCexOJ0qQ...|                 26|                  7|994726652|      1.0|          0.0|   (9,[0],[1.0])|     1.0| (15,[1],[1.0])|     0.0|(1,[0],[1.0])|(25,[0,10,24],[1....|0.47574758529663086|            1.0|\n",
      "|Ae2CPwXAAYZDYWeT9...|                 26|                 13|994726652|      1.0|          0.0|   (9,[0],[1.0])|     4.0| (15,[4],[1.0])|     0.0|(1,[0],[1.0])|(25,[0,13,24],[1....| 0.5826125144958496|            1.0|\n",
      "|AhmXEt5kkeIy_HWwM...|                 26|                 13|994726652|      1.0|          0.0|   (9,[0],[1.0])|     4.0| (15,[4],[1.0])|     0.0|(1,[0],[1.0])|(25,[0,13,24],[1....| 0.5826125144958496|            1.0|\n",
      "|AsvYuprCnYIo8J_NS...|                 28|                 22|994726652|      1.0|          3.0|   (9,[3],[1.0])|     0.0| (15,[0],[1.0])|     0.0|(1,[0],[1.0])|(25,[3,9,24],[1.0...|0.49507755041122437|            1.0|\n",
      "|AwGF18uaPMsGN2XQH...|                 26|             501032|934026699|      1.0|          0.0|   (9,[0],[1.0])|     3.0| (15,[3],[1.0])|     1.0|    (1,[],[])|(25,[0,12],[1.0,1...| 0.5880082249641418|            1.0|\n",
      "|AydN-Yr12zSqSlSu_...|                 25|                 21|994726652|      1.0|          4.0|   (9,[4],[1.0])|     7.0| (15,[7],[1.0])|     0.0|(1,[0],[1.0])|(25,[4,16,24],[1....| 0.3436106741428375|            0.0|\n",
      "|A-oFwGdLptFdmaGqT...|                 26|                  7|934026699|      1.0|          0.0|   (9,[0],[1.0])|     1.0| (15,[1],[1.0])|     1.0|    (1,[],[])|(25,[0,10],[1.0,1...| 0.6888738870620728|            1.0|\n",
      "|A9_8qBj_9eURUAwf9...|                 26|             501032|994726652|      1.0|          0.0|   (9,[0],[1.0])|     3.0| (15,[3],[1.0])|     0.0|(1,[0],[1.0])|(25,[0,12,24],[1....| 0.3690701127052307|            0.0|\n",
      "|ABxyg9DfYB9JExClB...|                 26|             501032|934026699|      1.0|          0.0|   (9,[0],[1.0])|     3.0| (15,[3],[1.0])|     1.0|    (1,[],[])|(25,[0,12],[1.0,1...| 0.5880082249641418|            1.0|\n",
      "|ADoKJ8r_SdkndJRG7...|                 25|                  2|934026699|      1.0|          4.0|   (9,[4],[1.0])|     5.0| (15,[5],[1.0])|     1.0|    (1,[],[])|(25,[4,14],[1.0,1...| 0.7609536051750183|            1.0|\n",
      "|AH9giWWr4ivL46Aki...|                  0|             501009|934026699|      1.0|          5.0|   (9,[5],[1.0])|     9.0| (15,[9],[1.0])|     1.0|    (1,[],[])|(25,[5,18],[1.0,1...| 0.6228173971176147|            1.0|\n",
      "|AMSDLwRK-cikOPrbL...|                 26|                 13|994726652|      1.0|          0.0|   (9,[0],[1.0])|     4.0| (15,[4],[1.0])|     0.0|(1,[0],[1.0])|(25,[0,13,24],[1....| 0.5826125144958496|            1.0|\n",
      "|ANs21Js3ww1E_ImUN...|                 27|             501013|934026699|      1.0|          2.0|   (9,[2],[1.0])|     8.0| (15,[8],[1.0])|     1.0|    (1,[],[])|(25,[2,17],[1.0,1...| 0.6652107238769531|            1.0|\n",
      "|AXXDIqEJ5xUnAm7ap...|                 26|             501026|994726652|      1.0|          0.0|   (9,[0],[1.0])|     2.0| (15,[2],[1.0])|     0.0|(1,[0],[1.0])|(25,[0,11,24],[1....|0.41945841908454895|            0.0|\n",
      "+--------------------+-------------------+-------------------+---------+---------+-------------+----------------+--------+---------------+--------+-------------+--------------------+-------------------+---------------+\n",
      "only showing top 20 rows\n",
      "\n"
     ]
    }
   ],
   "source": [
    "testDataPredictions = model.transform(testData)\n",
    "testDataPredictions.show()"
   ]
  },
  {
   "cell_type": "markdown",
   "metadata": {},
   "source": [
    "# Estimating the Model performance\n",
    "\n",
    "Having trained the model, the next step is to evaluate its performance on the test data. This is achieved as follows:\n",
    "\n",
    "    Load the test data into a dataframe.\n",
    "    Score the test dataframe using the model.\n",
    "    Compute the AUC metric based on the model scores on the test data.\n",
    "    Plot the ROC curve to better understand the model performance."
   ]
  },
  {
   "cell_type": "markdown",
   "metadata": {},
   "source": [
    "# Confusion Matrix"
   ]
  },
  {
   "cell_type": "code",
   "execution_count": 57,
   "metadata": {},
   "outputs": [],
   "source": [
    "from sklearn.metrics import confusion_matrix\n",
    "import pandas as pd\n",
    "import matplotlib.pyplot as plt\n",
    "import seaborn as sn\n",
    "\n",
    "outdataframe = testDataPredictions.select(\"purchased\",\"predicted_label\")\n",
    "pandadf = outdataframe.toPandas()\n",
    "npmat = pandadf.as_matrix()\n",
    "labels = npmat[:,0]\n",
    "predicted_label = npmat[:,1]\n",
    "\n",
    "cnf_matrix = confusion_matrix(labels, predicted_label)\n"
   ]
  },
  {
   "cell_type": "code",
   "execution_count": 58,
   "metadata": {
    "collapsed": true
   },
   "outputs": [],
   "source": [
    "import numpy as np\n",
    "\n",
    "def plot_confusion_matrix(cm,\n",
    "                          target_names,\n",
    "                          title='Confusion matrix',\n",
    "                          cmap=None,\n",
    "                          normalize=True):\n",
    "\n",
    "    import matplotlib.pyplot as plt\n",
    "    import numpy as np\n",
    "    import itertools\n",
    "\n",
    "    accuracy = np.trace(cm) / float(np.sum(cm))\n",
    "    misclass = 1 - accuracy\n",
    "\n",
    "    if cmap is None:\n",
    "        cmap = plt.get_cmap('Blues')\n",
    "\n",
    "    plt.figure(figsize=(8, 6))\n",
    "    plt.imshow(cm, interpolation='nearest', cmap=cmap)\n",
    "    plt.title(title)\n",
    "    plt.colorbar()\n",
    "\n",
    "    if target_names is not None:\n",
    "        tick_marks = np.arange(len(target_names))\n",
    "        plt.xticks(tick_marks, target_names, rotation=45)\n",
    "        plt.yticks(tick_marks, target_names)\n",
    "\n",
    "    if normalize:\n",
    "        cm = cm.astype('float') / cm.sum(axis=1)[:, np.newaxis]\n",
    "\n",
    "    thresh = cm.max() / 1.5 if normalize else cm.max() / 2\n",
    "    for i, j in itertools.product(range(cm.shape[0]), range(cm.shape[1])):\n",
    "        if normalize:\n",
    "            plt.text(j, i, \"{:0.4f}\".format(cm[i, j]),\n",
    "                     horizontalalignment=\"center\",\n",
    "                     color=\"white\" if cm[i, j] > thresh else \"black\")\n",
    "        else:\n",
    "            plt.text(j, i, \"{:,}\".format(cm[i, j]),\n",
    "                     horizontalalignment=\"center\",\n",
    "                     color=\"white\" if cm[i, j] > thresh else \"black\")\n",
    "\n",
    "\n",
    "    plt.tight_layout()\n",
    "    plt.ylabel('Purchased')\n",
    "    plt.xlabel('Predicted \\naccuracy={:0.4f}; misclass={:0.4f}'.format(accuracy, misclass))\n",
    "    plt.show()"
   ]
  },
  {
   "cell_type": "code",
   "execution_count": 59,
   "metadata": {},
   "outputs": [
    {
     "data": {
      "image/png": "[encoded data removed]",
      "text/plain": [
       "<matplotlib.figure.Figure at 0x7f03405a7490>"
      ]
     },
     "metadata": {},
     "output_type": "display_data"
    }
   ],
   "source": [
    "plot_confusion_matrix(cnf_matrix,\n",
    "                      normalize    = False,\n",
    "                      target_names = ['Positive', 'Negative'],\n",
    "                      title        = \"Confusion Matrix\")"
   ]
  },
  {
   "cell_type": "code",
   "execution_count": 60,
   "metadata": {},
   "outputs": [],
   "source": [
    "from pyspark.mllib.evaluation import BinaryClassificationMetrics\n",
    "# Instantiate metrics object\n",
    "predictionAndLabels = testDataPredictions.rdd.map(lambda lp: (float(lp.score), lp.purchased))\n",
    "\n",
    "metrics = BinaryClassificationMetrics(predictionAndLabels)\n"
   ]
  },
  {
   "cell_type": "markdown",
   "metadata": {},
   "source": [
    "# Compute AUC"
   ]
  },
  {
   "cell_type": "code",
   "execution_count": 61,
   "metadata": {},
   "outputs": [
    {
     "name": "stdout",
     "output_type": "stream",
     "text": [
      "Area under PR = 0.864068321743\n",
      "Area under ROC = 0.6849291688\n"
     ]
    }
   ],
   "source": [
    "# Area under precision-recall curve\n",
    "print(\"Area under PR = %s\" % metrics.areaUnderPR)\n",
    "\n",
    "# Area under ROC curve\n",
    "print(\"Area under ROC = %s\" % metrics.areaUnderROC)\n"
   ]
  },
  {
   "cell_type": "markdown",
   "metadata": {},
   "source": [
    "# Plot ROC"
   ]
  },
  {
   "cell_type": "code",
   "execution_count": 62,
   "metadata": {},
   "outputs": [
    {
     "data": {
      "image/png": "[encoded data removed]",
      "text/plain": [
       "<matplotlib.figure.Figure at 0x7f034044e590>"
      ]
     },
     "metadata": {},
     "output_type": "display_data"
    }
   ],
   "source": [
    "from pyspark.sql.functions import udf\n",
    "from sklearn.metrics import roc_curve, auc\n",
    "import matplotlib.pyplot as plt\n",
    "import random\n",
    "\n",
    "'''\n",
    "To plot the ROC curve, we need the probability scores as predicted\n",
    "by our model. However our model outputs a probability vector for each\n",
    "record where it separately provides the probability for class 0 and also\n",
    "for class 1. We first write a user-defined function to extract the \n",
    "probability for the positive '1' class from the probability vector.\n",
    "'''\n",
    "\n",
    "outdf = testDataPredictions.select(\"purchased\",\"score\")\n",
    "pdf = outdf.toPandas()\n",
    "npmat = pdf.as_matrix()\n",
    "labels = npmat[:,0]\n",
    "probs = npmat[:,1]\n",
    "\n",
    "'''\n",
    "We compute the false positive rate and true positive rate at various thresholds\n",
    "of the probability score and use that to recompute the auc and finally to \n",
    "plot the ROC curve.\n",
    "'''\n",
    "false_positive_rate, true_positive_rate, thresholds = roc_curve(labels, probs)\n",
    "roc_auc = auc(false_positive_rate, true_positive_rate)\n",
    "plt.title('Receiver Operating Characteristic')\n",
    "plt.plot(false_positive_rate, true_positive_rate, 'b', label='AUC = %0.2f'% roc_auc)\n",
    "plt.legend(loc='lower right')\n",
    "plt.plot([0,1],[0,1],'r--')\n",
    "plt.xlim([-0.1,1.2])\n",
    "plt.ylim([-0.1,1.2])\n",
    "plt.ylabel('True Positive Rate')\n",
    "plt.xlabel('False Positive Rate')\n",
    "plt.show()"
   ]
  },
  {
   "cell_type": "markdown",
   "metadata": {},
   "source": [
    "# Plot PR Curve"
   ]
  },
  {
   "cell_type": "code",
   "execution_count": 63,
   "metadata": {},
   "outputs": [
    {
     "name": "stdout",
     "output_type": "stream",
     "text": [
      "Average precision-recall score: 0.86\n"
     ]
    },
    {
     "data": {
      "image/png": "[encoded data removed]",
      "text/plain": [
       "<matplotlib.figure.Figure at 0x7f0340652250>"
      ]
     },
     "metadata": {},
     "output_type": "display_data"
    }
   ],
   "source": [
    "import numpy as np\n",
    "import matplotlib.pyplot as plt\n",
    "from sklearn.metrics import precision_recall_curve\n",
    "from sklearn.metrics import average_precision_score\n",
    "\n",
    "average_precision = average_precision_score(labels, probs)\n",
    "\n",
    "print('Average precision-recall score: {0:0.2f}'.format(\n",
    "      average_precision))\n",
    "\n",
    "precision, recall, _ = precision_recall_curve(labels, probs)\n",
    "\n",
    "plt.step(recall, precision, color='b', alpha=0.2,\n",
    "         where='post')\n",
    "plt.fill_between(recall, precision, step='post', alpha=0.2,\n",
    "                 color='b')\n",
    "\n",
    "plt.xlabel('Recall')\n",
    "plt.ylabel('Precision')\n",
    "plt.ylim([0.0, 1.05])\n",
    "plt.xlim([0.0, 1.0])\n",
    "plt.title('2-class Precision-Recall curve: AP={0:0.2f}'.format(\n",
    "         average_precision))\n",
    "plt.show()\n"
   ]
  },
  {
   "cell_type": "markdown",
   "metadata": {},
   "source": [
    "# Memory Cleanup"
   ]
  },
  {
   "cell_type": "code",
   "execution_count": 64,
   "metadata": {},
   "outputs": [
    {
     "data": {
      "text/plain": [
       "DataFrame[User_ID: string, Browser_Platform_ID: string, Operating_System_ID: string, Ad_ID: string]"
      ]
     },
     "execution_count": 64,
     "metadata": {},
     "output_type": "execute_result"
    }
   ],
   "source": [
    "testData.unpersist()\n",
    "trainData.unpersist()\n",
    "imp_df.unpersist()\n",
    "act_df.unpersist()"
   ]
  }
 ],
 "metadata": {
  "kernelspec": {
   "display_name": "conda_python2",
   "language": "python",
   "name": "conda_python2"
  },
  "language_info": {
   "codemirror_mode": {
    "name": "ipython",
    "version": 2
   },
   "file_extension": ".py",
   "mimetype": "text/x-python",
   "name": "python",
   "nbconvert_exporter": "python",
   "pygments_lexer": "ipython2",
   "version": "2.7.11"
  }
 },
 "nbformat": 4,
 "nbformat_minor": 2
}
